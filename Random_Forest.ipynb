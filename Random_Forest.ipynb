{
 "cells": [
  {
   "cell_type": "code",
   "execution_count": null,
   "id": "a4b0b550",
   "metadata": {},
   "outputs": [],
   "source": [
    "#load necessary packages\n",
    "import pandas as pd\n",
    "import numpy as np\n",
    "import matplotlib.pyplot as plt\n",
    "from sklearn.ensemble import RandomForestClassifier\n",
    "from sklearn.linear_model import LogisticRegression\n",
    "from sklearn.preprocessing import LabelEncoder\n",
    "from sklearn.model_selection import GridSearchCV\n",
    "from sklearn.model_selection import RepeatedStratifiedKFold\n",
    "from mlxtend.evaluate import bootstrap_point632_score\n",
    "from sklearn.metrics import accuracy_score, f1_score, precision_score, recall_score, matthews_corrcoef, roc_auc_score, plot_roc_curve"
   ]
  },
  {
   "cell_type": "code",
   "execution_count": null,
   "id": "5fb07dcf",
   "metadata": {},
   "outputs": [],
   "source": [
    "#Read file\n",
    "#samples should be in rows and features in columns\n",
    "#data already normalized from metaboanalyst \n",
    "df = pd.read_csv(\"path_to_file\")\n",
    "\n",
    "#prepare and encode data\n",
    "data = df.values\n",
    "X = data[:, 1:-1]\n",
    "y = data[:, -1].astype(str)\n",
    "\n",
    "label_encoder = LabelEncoder()\n",
    "y = label_encoder.fit_transform(y)\n",
    "\n",
    "#check for class imbalance\n",
    "print('\\nratio of Healthy and Infected = ', sum(y)/len(y))"
   ]
  },
  {
   "cell_type": "code",
   "execution_count": null,
   "id": "7d250f01",
   "metadata": {},
   "outputs": [],
   "source": [
    "#define model\n",
    "RFmodel = RandomForestClassifier(n_estimators=100, criterion='gini', min_samples_split=2,\n",
    "                                 max_features='sqrt', max_leaf_nodes=None)"
   ]
  },
  {
   "cell_type": "code",
   "execution_count": null,
   "id": "fde9e8eb",
   "metadata": {},
   "outputs": [],
   "source": [
    "#optimize hyperparameters\n",
    "\n",
    "max_depth = list(range(1,20))\n",
    "min_samples_leaf = np.arange(0.01,1,0.01)\n",
    "param_dict = {\"max_depth\":max_depth, 'min_samples_leaf': min_samples_leaf}\n",
    "cv = RepeatedStratifiedKFold(n_splits=5, n_repeats=10)\n",
    "grid_search = GridSearchCV(RFmodel, param_grid=param_dict, cv=cv, scoring='accuracy', verbose=1, n_jobs=-1)\n",
    "grid_search.fit(X, y)\n",
    "print('best parameter', grid_search.best_params_, 'accuracy', grid_search.best_score_)\n",
    "\n",
    "#capture best hyperparameter\n",
    "max_depth_best = grid_search.best_params_['max_depth']\n",
    "min_samples_leaf_best = grid_search.best_params_['min_samples_leaf']"
   ]
  },
  {
   "cell_type": "code",
   "execution_count": null,
   "id": "b0e8b1cb",
   "metadata": {},
   "outputs": [],
   "source": [
    "#redefine model with best hyperparameter\n",
    "RFmodel_best = RandomForestClassifier(n_estimators=100, criterion='gini', min_samples_split=2, max_depth=max_depth_best,\n",
    "                                      min_samples_leaf = min_samples_leaf_best, max_features='sqrt', max_leaf_nodes=None)\n",
    "\n",
    "#fit the model\n",
    "RFmodel_best.fit(X, y)\n",
    "\n",
    "#plot ROC curve\n",
    "plot_roc_curve(RFmodel_best, X, y)"
   ]
  },
  {
   "cell_type": "code",
   "execution_count": null,
   "id": "174fe5d0",
   "metadata": {},
   "outputs": [],
   "source": [
    "# 632+bootstrap scoring metrics\n",
    "\n",
    "metrics = {'Accuracy': accuracy_score, 'Precision': precision_score, 'Recall': recall_score,\n",
    "           'F1': f1_score, 'matthews correlation coffecient': matthews_corrcoef, 'ROC AUC': roc_auc_score}\n",
    "\n",
    "for name, metric in metrics.items():\n",
    "    scores = bootstrap_point632_score(RFmodel_best, X, y, n_splits=200, method='.632+', scoring_func=metric,\n",
    "                                  predict_proba=False, random_seed=None, clone_estimator=True)\n",
    "    mean_score = np.mean(scores)\n",
    "    print(name, '%.2f' % mean_score)\n",
    "    # Confidence interval\n",
    "    lower = np.percentile(scores, 2.5)\n",
    "    upper = np.percentile(scores, 97.5)\n",
    "    print('95%% Confidence interval: [%.2f, %.2f]' % (100*lower, 100*upper))\n",
    "    print('\\n')"
   ]
  },
  {
   "cell_type": "code",
   "execution_count": null,
   "id": "e600cc3d",
   "metadata": {},
   "outputs": [],
   "source": [
    "#plot important features\n",
    "important_features = RFmodel_best.feature_importances_\n",
    "plt.bar([x for x in range(len(important_features))], important_features)\n",
    "plt.show()"
   ]
  },
  {
   "cell_type": "code",
   "execution_count": null,
   "id": "87445a8c",
   "metadata": {},
   "outputs": [],
   "source": [
    "#save important features to a .csv\n",
    "df_important_features = pd.DataFrame(enumerate(important_features))\n",
    "df_important_features_sorted = df_important_features.sort_values(1, axis=0, ascending=False)\n",
    "df_important_features_sorted_indexes = df_important_features_sorted[0]\n",
    "feature_labels = df.columns[1:-1]\n",
    "df_important_features_sorted_labels = feature_labels[df_important_features_sorted_indexes]\n",
    "df_important_features_sorted['label'] = df_important_features_sorted_labels\n",
    "df_important_features_sorted = df_important_features_sorted.rename(columns={0:'index', 1:'importance'})\n",
    "df_important_features_sorted.to_csv(\"important features from RF with max_depth 15 and min_samples_leaf 0.02.csv\")\n",
    "df_important_features_sorted"
   ]
  }
 ],
 "metadata": {
  "kernelspec": {
   "display_name": "Python 3 (ipykernel)",
   "language": "python",
   "name": "python3"
  },
  "language_info": {
   "codemirror_mode": {
    "name": "ipython",
    "version": 3
   },
   "file_extension": ".py",
   "mimetype": "text/x-python",
   "name": "python",
   "nbconvert_exporter": "python",
   "pygments_lexer": "ipython3",
   "version": "3.9.7"
  }
 },
 "nbformat": 4,
 "nbformat_minor": 5
}

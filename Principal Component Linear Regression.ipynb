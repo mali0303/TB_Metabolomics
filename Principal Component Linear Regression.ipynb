{
 "cells": [
  {
   "cell_type": "code",
   "execution_count": null,
   "id": "ab419913",
   "metadata": {},
   "outputs": [],
   "source": [
    "#load necessary packages\n",
    "import pandas as pd\n",
    "import numpy as np\n",
    "import matplotlib.pyplot as plt\n",
    "from sklearn.pipeline import Pipeline\n",
    "from sklearn.decomposition import PCA\n",
    "from sklearn.linear_model import LogisticRegression\n",
    "from sklearn.preprocessing import LabelEncoder\n",
    "from sklearn.model_selection import GridSearchCV\n",
    "from sklearn.model_selection import RepeatedStratifiedKFold\n",
    "from mlxtend.evaluate import bootstrap_point632_score\n",
    "from sklearn.metrics import accuracy_score, f1_score, precision_score, recall_score, matthews_corrcoef, roc_auc_score, plot_roc_curve"
   ]
  },
  {
   "cell_type": "code",
   "execution_count": null,
   "id": "29d09d0d",
   "metadata": {},
   "outputs": [],
   "source": [
    "#Read file\n",
    "#samples should be in rows and features in columns\n",
    "#data already normalized from metaboanalyst \n",
    "df = pd.read_csv(\"path_to_file\")\n",
    "\n",
    "#prepare and encode data\n",
    "data = df.values\n",
    "X = data[:, 1:-1]\n",
    "y = data[:, -1].astype(str)\n",
    "\n",
    "label_encoder = LabelEncoder()\n",
    "y = label_encoder.fit_transform(y)\n",
    "\n",
    "#check for class imbalance\n",
    "print('\\nratio of Healthy and Infected = ', sum(y)/len(y))"
   ]
  },
  {
   "cell_type": "code",
   "execution_count": null,
   "id": "a7a70405",
   "metadata": {},
   "outputs": [],
   "source": [
    "#generate Principle Components\n",
    "pca = PCA()\n",
    "pca.fit(X)\n",
    "pc_x = pca.transform(X)\n",
    "\n",
    "#Scree Plot\n",
    "PC_values = np.arange(pca.n_components_) + 1\n",
    "plt.plot(PC_values, pca.explained_variance_ratio_, 'ro-', linewidth=2)\n",
    "plt.title('Scree Plot')\n",
    "plt.xlabel('Principal Component')\n",
    "plt.ylabel('Proportion of Variance Explained')\n",
    "plt.show()"
   ]
  },
  {
   "cell_type": "code",
   "execution_count": null,
   "id": "085ca193",
   "metadata": {},
   "outputs": [],
   "source": [
    "#optimize hyperparameters\n",
    "\n",
    "#optimizating in a broader range\n",
    "LogisticRegression__C = [0.0001, 0.001, 0.01, 0.1, 1, 10, 100, 1000]\n",
    "pca__n_components = range(1, 64)\n",
    "param_dict = {\"LogisticRegression__C\":LogisticRegression__C, 'pca__n_components':pca__n_components}\n",
    "cv = RepeatedStratifiedKFold(n_splits=5, n_repeats=10)\n",
    "pipe = Pipeline([('pca', PCA(n_components=pca__n_components)),\n",
    "                 ('LogisticRegression', LogisticRegression(C=LogisticRegression__C, solver='liblinear'))])\n",
    "grid_search = GridSearchCV(pipe, param_grid=param_dict, cv=cv, scoring='accuracy', refit=True, verbose=1)\n",
    "grid_search.fit(X, y)\n",
    "print('best parameter', grid_search.best_params_, 'accuracy', grid_search.best_score_)\n",
    "\n",
    "#optimizing in a narrower ranger\n",
    "LogisticRegression__C = np.arange(0.01, 1, 0.01)\n",
    "pca__n_components = range(1, 64)\n",
    "param_dict = {\"LogisticRegression__C\":LogisticRegression__C, 'pca__n_components':pca__n_components}\n",
    "cv = RepeatedStratifiedKFold(n_splits=5, n_repeats=10)\n",
    "pipe = Pipeline([('pca', PCA(n_components=pca__n_components)),\n",
    "                 ('LogisticRegression', LogisticRegression(C=LogisticRegression__C, solver='liblinear'))])\n",
    "grid_search = GridSearchCV(pipe, param_grid=param_dict, cv=cv, scoring='accuracy', refit=True, verbose=1)\n",
    "grid_search.fit(X, y)\n",
    "print('best parameter', grid_search.best_params_, 'accuracy', grid_search.best_score_)\n",
    "\n",
    "#capture best hyperparameter\n",
    "best_LogisticRegression__C = grid_search.best_params_['LogisticRegression__C']\n",
    "best_pca__n_components = grid_search.best_params_['pca__n_components']"
   ]
  },
  {
   "cell_type": "code",
   "execution_count": null,
   "id": "a9201412",
   "metadata": {},
   "outputs": [],
   "source": [
    "#redefine model with best hyperparameter\n",
    "PCLR_pipe_best = Pipeline([('pca', PCA(n_components=best_pca__n_components)),\n",
    "                 ('LogisticRegression', LogisticRegression(C=best_LogisticRegression__C, solver='liblinear'))])\n",
    "\n",
    "#fit the model\n",
    "PCLR_pipe_best.fit(X, y)\n",
    "\n",
    "#plot ROC curve from SVM_Linear_best\n",
    "plot_roc_curve(PCLR_pipe_best, X, y)"
   ]
  },
  {
   "cell_type": "code",
   "execution_count": null,
   "id": "6b4e2448",
   "metadata": {},
   "outputs": [],
   "source": [
    "# 632+bootstrap scoring metrics\n",
    "\n",
    "metrics = {'Accuracy': accuracy_score, 'Precision': precision_score, 'Recall': recall_score,\n",
    "           'F1': f1_score, 'matthews correlation coffecient': matthews_corrcoef, 'ROC AUC': roc_auc_score}\n",
    "\n",
    "for name, metric in metrics.items():\n",
    "    scores = bootstrap_point632_score(PCLR_pipe_best, X, y, n_splits=200, method='.632+', scoring_func=metric,\n",
    "                                  predict_proba=False, random_seed=None, clone_estimator=True)\n",
    "    mean_score = np.mean(scores)\n",
    "    print(name, '%.2f' % mean_score)\n",
    "    # Confidence interval\n",
    "    lower = np.percentile(scores, 2.5)\n",
    "    upper = np.percentile(scores, 97.5)\n",
    "    print('95%% Confidence interval: [%.2f, %.2f]' % (100*lower, 100*upper))\n",
    "    print('\\n')"
   ]
  }
 ],
 "metadata": {
  "kernelspec": {
   "display_name": "Python 3 (ipykernel)",
   "language": "python",
   "name": "python3"
  },
  "language_info": {
   "codemirror_mode": {
    "name": "ipython",
    "version": 3
   },
   "file_extension": ".py",
   "mimetype": "text/x-python",
   "name": "python",
   "nbconvert_exporter": "python",
   "pygments_lexer": "ipython3",
   "version": "3.9.7"
  }
 },
 "nbformat": 4,
 "nbformat_minor": 5
}

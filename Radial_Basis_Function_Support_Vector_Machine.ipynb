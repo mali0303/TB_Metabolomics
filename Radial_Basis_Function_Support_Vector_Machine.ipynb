{
 "cells": [
  {
   "cell_type": "code",
   "execution_count": null,
   "id": "da5c3b2e",
   "metadata": {},
   "outputs": [],
   "source": [
    "#load necessary packages\n",
    "import pandas as pd\n",
    "import numpy as np\n",
    "from sklearn.svm import SVC\n",
    "from sklearn.preprocessing import LabelEncoder\n",
    "from sklearn.model_selection import GridSearchCV\n",
    "from sklearn.model_selection import RepeatedStratifiedKFold\n",
    "from mlxtend.evaluate import bootstrap_point632_score\n",
    "from sklearn.metrics import accuracy_score, f1_score, precision_score, recall_score, matthews_corrcoef, roc_auc_score, plot_roc_curve"
   ]
  },
  {
   "cell_type": "code",
   "execution_count": null,
   "id": "a310e028",
   "metadata": {},
   "outputs": [],
   "source": [
    "#Read file\n",
    "#samples should be in rows and features in columns\n",
    "#data already normalized from metaboanalyst \n",
    "df = pd.read_csv(\"path_to_file\")\n",
    "\n",
    "#prepare and encode data\n",
    "data = df.values\n",
    "X = data[:, 1:-1]\n",
    "y = data[:, -1].astype(str)\n",
    "\n",
    "label_encoder = LabelEncoder()\n",
    "y = label_encoder.fit_transform(y)\n",
    "\n",
    "#check for class imbalance\n",
    "print('\\nratio of Healthy and Infected = ', sum(y)/len(y))"
   ]
  },
  {
   "cell_type": "code",
   "execution_count": null,
   "id": "c67f4730",
   "metadata": {},
   "outputs": [],
   "source": [
    "#define model\n",
    "SVM_RBF = SVC(kernel='rbf')"
   ]
  },
  {
   "cell_type": "code",
   "execution_count": null,
   "id": "4ca8a581",
   "metadata": {},
   "outputs": [],
   "source": [
    "#optimize hyperparameters\n",
    "\n",
    "#optimizating in a broader range\n",
    "C_range = [0.0001, 0.001, 0.01, 0.1, 1, 10, 100, 1000]\n",
    "gamma_range = [1e-10, 1e-9, 1e-8, 1e-7, 1e-6, 1e-5, 1e-4, 1e-3, 1e-2, 1e-1, 1e0, 1e1, 1e2]\n",
    "param_dict = {\"C\":C_range, 'gamma': gamma_range}\n",
    "cv = RepeatedStratifiedKFold(n_splits=5, n_repeats=10)\n",
    "grid_search = GridSearchCV(SVM_RBF, param_grid=param_dict, cv=cv, scoring='accuracy', verbose=1)\n",
    "grid_search.fit(X, y)\n",
    "print('best parameter', grid_search.best_params_, 'accuracy', grid_search.best_score_)\n",
    "\n",
    "#optimizing in a narrower ranger\n",
    "C_range = np.arange(1, 100, 1)\n",
    "gamma_range = np.arange(0.0001, 0.01, 0.0001)\n",
    "param_dict = {\"C\":C_range, 'gamma': gamma_range}\n",
    "cv = RepeatedStratifiedKFold(n_splits=5, n_repeats=10)\n",
    "grid_search = GridSearchCV(SVM_RBF, param_grid=param_dict, cv=cv, scoring='accuracy', verbose=1)\n",
    "grid_search.fit(X, y)\n",
    "print('best parameter', grid_search.best_params_, 'accuracy', grid_search.best_score_)\n",
    "\n",
    "#capture best hyperparameter\n",
    "best_C=grid_search.best_params_['C']\n",
    "best_gamma=grid_search.best_params_['gamma']"
   ]
  },
  {
   "cell_type": "code",
   "execution_count": null,
   "id": "04cd32ec",
   "metadata": {},
   "outputs": [],
   "source": [
    "#redefine model with best hyperparameter\n",
    "SVM_RBF_best = SVC(kernel = 'rbf', C=best_C, gamma=best_gamma)\n",
    "\n",
    "#fit the model\n",
    "SVM_RBF_best.fit(X, y)\n",
    "\n",
    "#plot ROC curve\n",
    "plot_roc_curve(SVM_RBF_best, X, y)"
   ]
  },
  {
   "cell_type": "code",
   "execution_count": null,
   "id": "8fa35a7b",
   "metadata": {},
   "outputs": [],
   "source": [
    "# 632+bootstrap scoring metrics\n",
    "\n",
    "metrics = {'Accuracy': accuracy_score, 'Precision': precision_score, 'Recall': recall_score,\n",
    "           'F1': f1_score, 'matthews correlation coffecient': matthews_corrcoef, 'ROC AUC': roc_auc_score}\n",
    "\n",
    "for name, metric in metrics.items():\n",
    "    scores = bootstrap_point632_score(SVM_RBF_best, X, y, n_splits=200, method='.632+', scoring_func=metric, \n",
    "                                  predict_proba=False, random_seed=None, clone_estimator=True)\n",
    "    mean_score = np.mean(scores)\n",
    "    print(name, '%.2f' % mean_score)\n",
    "    # Confidence interval\n",
    "    lower = np.percentile(scores, 2.5)\n",
    "    upper = np.percentile(scores, 97.5)\n",
    "    print('95%% Confidence interval: [%.2f, %.2f]' % (100*lower, 100*upper))\n",
    "    print('\\n')"
   ]
  }
 ],
 "metadata": {
  "kernelspec": {
   "display_name": "Python 3 (ipykernel)",
   "language": "python",
   "name": "python3"
  },
  "language_info": {
   "codemirror_mode": {
    "name": "ipython",
    "version": 3
   },
   "file_extension": ".py",
   "mimetype": "text/x-python",
   "name": "python",
   "nbconvert_exporter": "python",
   "pygments_lexer": "ipython3",
   "version": "3.9.7"
  }
 },
 "nbformat": 4,
 "nbformat_minor": 5
}
